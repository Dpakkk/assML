{
 "cells": [
  {
   "cell_type": "markdown",
   "metadata": {},
   "source": [
    "### Lab Part A\n",
    "\n",
    "1. Generate N Gaussian random numbers and compute mean and std and plot histograms, for N=10,100,1000.  Compare the histograms for all three.  Now try 100k!  What do you notice? \n",
    "\n",
    "2. Load IRIS dataset and compute pairwise correlations between features.\n",
    "    Hint: from scipy import stats\n",
    "          stats.pearsonr(...)\n",
    "\n",
    "3. Now standardize each feature and give scatter plot for pairs of columns with highest pairwise correlation. Also give scatter plot for the pair of columns with lowest pairwise correlation.\n"
   ]
  },
  {
   "cell_type": "code",
   "execution_count": null,
   "metadata": {},
   "outputs": [],
   "source": []
  },
  {
   "cell_type": "code",
   "execution_count": null,
   "metadata": {},
   "outputs": [],
   "source": []
  },
  {
   "cell_type": "code",
   "execution_count": null,
   "metadata": {},
   "outputs": [],
   "source": []
  },
  {
   "cell_type": "code",
   "execution_count": null,
   "metadata": {},
   "outputs": [],
   "source": []
  },
  {
   "cell_type": "markdown",
   "metadata": {},
   "source": [
    "### Lab Part B\n",
    "\n",
    "1. Recall (and download) the UCI Adults Income dataset from HW2.\n",
    "Find two examples in the course content in Canvas  \n",
    "Database Details:   \n",
    "user='new_haven_ds_read'  \n",
    "password='new_haven_ds_secret_99'  \n",
    "host='spring-22.cwroivw0q1rc.us-east-1.rds.amazonaws.com' database='nhds'  \n",
    "database='nhds'  \n",
    "  \n",
    "  \n",
    " SQL: sql = 'select * from nhds.uci_adults'  \n",
    "  \n",
    "2. Calculate the mean, standard deviation, and variance of the age column in the dataset.\n",
    "3. Create a histogram with bins of the age column.  Choose a number of bins that you like.\n",
    "4. Calculate the mean, standard deviation, and variance of the educational_num column in the dataset.\n",
    "5. Create a histogram with bins of the educational_num column.  Choose a number of bins that you like."
   ]
  },
  {
   "cell_type": "code",
   "execution_count": null,
   "metadata": {},
   "outputs": [],
   "source": []
  },
  {
   "cell_type": "code",
   "execution_count": null,
   "metadata": {},
   "outputs": [],
   "source": []
  },
  {
   "cell_type": "code",
   "execution_count": null,
   "metadata": {},
   "outputs": [],
   "source": []
  },
  {
   "cell_type": "markdown",
   "metadata": {},
   "source": [
    "### Lab Part C\n",
    "1. Create a DataFrame with the New York Times Covid data as done in the class notes  \n",
    "2. Plot the number of daily cases in New Haven County.  \n",
    "3. Add the rolling 7 day mean to your chart.  \n",
    "4. Which day had the highest number of new cases in New Haven County?  \n",
    "5. Which month had the highest number of total new cases in New Haven County?  "
   ]
  },
  {
   "cell_type": "code",
   "execution_count": null,
   "metadata": {},
   "outputs": [],
   "source": []
  }
 ],
 "metadata": {
  "kernelspec": {
   "display_name": "Python 3",
   "language": "python",
   "name": "python3"
  },
  "language_info": {
   "codemirror_mode": {
    "name": "ipython",
    "version": 3
   },
   "file_extension": ".py",
   "mimetype": "text/x-python",
   "name": "python",
   "nbconvert_exporter": "python",
   "pygments_lexer": "ipython3",
   "version": "3.9.4"
  }
 },
 "nbformat": 4,
 "nbformat_minor": 4
}
